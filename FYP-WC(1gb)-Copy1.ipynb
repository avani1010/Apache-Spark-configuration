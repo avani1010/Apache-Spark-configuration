{
 "cells": [
  {
   "cell_type": "code",
   "execution_count": 948,
   "metadata": {},
   "outputs": [
    {
     "data": {
      "text/html": [
       "<div>\n",
       "<style scoped>\n",
       "    .dataframe tbody tr th:only-of-type {\n",
       "        vertical-align: middle;\n",
       "    }\n",
       "\n",
       "    .dataframe tbody tr th {\n",
       "        vertical-align: top;\n",
       "    }\n",
       "\n",
       "    .dataframe thead th {\n",
       "        text-align: right;\n",
       "    }\n",
       "</style>\n",
       "<table border=\"1\" class=\"dataframe\">\n",
       "  <thead>\n",
       "    <tr style=\"text-align: right;\">\n",
       "      <th></th>\n",
       "      <th>executor_instances</th>\n",
       "      <th>executor_memory</th>\n",
       "      <th>executor_cores</th>\n",
       "      <th>driver_memory</th>\n",
       "      <th>driver_cores</th>\n",
       "      <th>scheduler_mode</th>\n",
       "      <th>collectat</th>\n",
       "      <th>reducebykey</th>\n",
       "      <th>total</th>\n",
       "    </tr>\n",
       "  </thead>\n",
       "  <tbody>\n",
       "    <tr>\n",
       "      <th>0</th>\n",
       "      <td>2</td>\n",
       "      <td>1</td>\n",
       "      <td>1</td>\n",
       "      <td>1</td>\n",
       "      <td>1</td>\n",
       "      <td>FIFO</td>\n",
       "      <td>5</td>\n",
       "      <td>49</td>\n",
       "      <td>54</td>\n",
       "    </tr>\n",
       "    <tr>\n",
       "      <th>1</th>\n",
       "      <td>2</td>\n",
       "      <td>1</td>\n",
       "      <td>1</td>\n",
       "      <td>2</td>\n",
       "      <td>1</td>\n",
       "      <td>FIFO</td>\n",
       "      <td>5</td>\n",
       "      <td>48</td>\n",
       "      <td>53</td>\n",
       "    </tr>\n",
       "    <tr>\n",
       "      <th>2</th>\n",
       "      <td>2</td>\n",
       "      <td>1</td>\n",
       "      <td>1</td>\n",
       "      <td>4</td>\n",
       "      <td>1</td>\n",
       "      <td>FIFO</td>\n",
       "      <td>5</td>\n",
       "      <td>48</td>\n",
       "      <td>53</td>\n",
       "    </tr>\n",
       "    <tr>\n",
       "      <th>3</th>\n",
       "      <td>2</td>\n",
       "      <td>1</td>\n",
       "      <td>1</td>\n",
       "      <td>8</td>\n",
       "      <td>1</td>\n",
       "      <td>FIFO</td>\n",
       "      <td>4</td>\n",
       "      <td>35</td>\n",
       "      <td>39</td>\n",
       "    </tr>\n",
       "    <tr>\n",
       "      <th>4</th>\n",
       "      <td>2</td>\n",
       "      <td>1</td>\n",
       "      <td>2</td>\n",
       "      <td>1</td>\n",
       "      <td>1</td>\n",
       "      <td>FIFO</td>\n",
       "      <td>4</td>\n",
       "      <td>33</td>\n",
       "      <td>37</td>\n",
       "    </tr>\n",
       "    <tr>\n",
       "      <th>5</th>\n",
       "      <td>2</td>\n",
       "      <td>1</td>\n",
       "      <td>4</td>\n",
       "      <td>1</td>\n",
       "      <td>1</td>\n",
       "      <td>FIFO</td>\n",
       "      <td>3</td>\n",
       "      <td>29</td>\n",
       "      <td>32</td>\n",
       "    </tr>\n",
       "    <tr>\n",
       "      <th>6</th>\n",
       "      <td>2</td>\n",
       "      <td>1</td>\n",
       "      <td>6</td>\n",
       "      <td>1</td>\n",
       "      <td>1</td>\n",
       "      <td>FIFO</td>\n",
       "      <td>3</td>\n",
       "      <td>27</td>\n",
       "      <td>30</td>\n",
       "    </tr>\n",
       "    <tr>\n",
       "      <th>7</th>\n",
       "      <td>12</td>\n",
       "      <td>8</td>\n",
       "      <td>5</td>\n",
       "      <td>1</td>\n",
       "      <td>1</td>\n",
       "      <td>FIFO</td>\n",
       "      <td>7</td>\n",
       "      <td>29</td>\n",
       "      <td>36</td>\n",
       "    </tr>\n",
       "    <tr>\n",
       "      <th>8</th>\n",
       "      <td>6</td>\n",
       "      <td>12</td>\n",
       "      <td>4</td>\n",
       "      <td>1</td>\n",
       "      <td>1</td>\n",
       "      <td>FIFO</td>\n",
       "      <td>4</td>\n",
       "      <td>29</td>\n",
       "      <td>33</td>\n",
       "    </tr>\n",
       "    <tr>\n",
       "      <th>9</th>\n",
       "      <td>6</td>\n",
       "      <td>12</td>\n",
       "      <td>4</td>\n",
       "      <td>8</td>\n",
       "      <td>4</td>\n",
       "      <td>FIFO</td>\n",
       "      <td>4</td>\n",
       "      <td>29</td>\n",
       "      <td>33</td>\n",
       "    </tr>\n",
       "    <tr>\n",
       "      <th>10</th>\n",
       "      <td>12</td>\n",
       "      <td>12</td>\n",
       "      <td>6</td>\n",
       "      <td>8</td>\n",
       "      <td>4</td>\n",
       "      <td>FIFO</td>\n",
       "      <td>3</td>\n",
       "      <td>19</td>\n",
       "      <td>23</td>\n",
       "    </tr>\n",
       "    <tr>\n",
       "      <th>11</th>\n",
       "      <td>2</td>\n",
       "      <td>8</td>\n",
       "      <td>2</td>\n",
       "      <td>8</td>\n",
       "      <td>2</td>\n",
       "      <td>FAIR</td>\n",
       "      <td>6</td>\n",
       "      <td>47</td>\n",
       "      <td>53</td>\n",
       "    </tr>\n",
       "    <tr>\n",
       "      <th>12</th>\n",
       "      <td>4</td>\n",
       "      <td>8</td>\n",
       "      <td>2</td>\n",
       "      <td>8</td>\n",
       "      <td>2</td>\n",
       "      <td>FAIR</td>\n",
       "      <td>5</td>\n",
       "      <td>38</td>\n",
       "      <td>43</td>\n",
       "    </tr>\n",
       "    <tr>\n",
       "      <th>13</th>\n",
       "      <td>4</td>\n",
       "      <td>8</td>\n",
       "      <td>4</td>\n",
       "      <td>8</td>\n",
       "      <td>2</td>\n",
       "      <td>FAIR</td>\n",
       "      <td>5</td>\n",
       "      <td>38</td>\n",
       "      <td>43</td>\n",
       "    </tr>\n",
       "    <tr>\n",
       "      <th>14</th>\n",
       "      <td>4</td>\n",
       "      <td>8</td>\n",
       "      <td>4</td>\n",
       "      <td>8</td>\n",
       "      <td>4</td>\n",
       "      <td>FAIR</td>\n",
       "      <td>5</td>\n",
       "      <td>36</td>\n",
       "      <td>41</td>\n",
       "    </tr>\n",
       "    <tr>\n",
       "      <th>15</th>\n",
       "      <td>6</td>\n",
       "      <td>8</td>\n",
       "      <td>4</td>\n",
       "      <td>8</td>\n",
       "      <td>4</td>\n",
       "      <td>FAIR</td>\n",
       "      <td>5</td>\n",
       "      <td>36</td>\n",
       "      <td>41</td>\n",
       "    </tr>\n",
       "    <tr>\n",
       "      <th>16</th>\n",
       "      <td>4</td>\n",
       "      <td>8</td>\n",
       "      <td>6</td>\n",
       "      <td>8</td>\n",
       "      <td>4</td>\n",
       "      <td>FAIR</td>\n",
       "      <td>5</td>\n",
       "      <td>36</td>\n",
       "      <td>41</td>\n",
       "    </tr>\n",
       "    <tr>\n",
       "      <th>17</th>\n",
       "      <td>3</td>\n",
       "      <td>8</td>\n",
       "      <td>6</td>\n",
       "      <td>8</td>\n",
       "      <td>6</td>\n",
       "      <td>FAIR</td>\n",
       "      <td>5</td>\n",
       "      <td>36</td>\n",
       "      <td>41</td>\n",
       "    </tr>\n",
       "    <tr>\n",
       "      <th>18</th>\n",
       "      <td>10</td>\n",
       "      <td>8</td>\n",
       "      <td>6</td>\n",
       "      <td>8</td>\n",
       "      <td>4</td>\n",
       "      <td>FAIR</td>\n",
       "      <td>5</td>\n",
       "      <td>35</td>\n",
       "      <td>40</td>\n",
       "    </tr>\n",
       "    <tr>\n",
       "      <th>19</th>\n",
       "      <td>12</td>\n",
       "      <td>16</td>\n",
       "      <td>6</td>\n",
       "      <td>8</td>\n",
       "      <td>6</td>\n",
       "      <td>FAIR</td>\n",
       "      <td>4</td>\n",
       "      <td>16</td>\n",
       "      <td>20</td>\n",
       "    </tr>\n",
       "    <tr>\n",
       "      <th>20</th>\n",
       "      <td>15</td>\n",
       "      <td>16</td>\n",
       "      <td>6</td>\n",
       "      <td>8</td>\n",
       "      <td>6</td>\n",
       "      <td>FAIR</td>\n",
       "      <td>4</td>\n",
       "      <td>15</td>\n",
       "      <td>19</td>\n",
       "    </tr>\n",
       "    <tr>\n",
       "      <th>21</th>\n",
       "      <td>15</td>\n",
       "      <td>8</td>\n",
       "      <td>6</td>\n",
       "      <td>12</td>\n",
       "      <td>6</td>\n",
       "      <td>FAIR</td>\n",
       "      <td>4</td>\n",
       "      <td>26</td>\n",
       "      <td>30</td>\n",
       "    </tr>\n",
       "    <tr>\n",
       "      <th>22</th>\n",
       "      <td>15</td>\n",
       "      <td>8</td>\n",
       "      <td>6</td>\n",
       "      <td>16</td>\n",
       "      <td>6</td>\n",
       "      <td>FAIR</td>\n",
       "      <td>4</td>\n",
       "      <td>26</td>\n",
       "      <td>30</td>\n",
       "    </tr>\n",
       "    <tr>\n",
       "      <th>23</th>\n",
       "      <td>20</td>\n",
       "      <td>8</td>\n",
       "      <td>6</td>\n",
       "      <td>16</td>\n",
       "      <td>6</td>\n",
       "      <td>FAIR</td>\n",
       "      <td>6</td>\n",
       "      <td>39</td>\n",
       "      <td>45</td>\n",
       "    </tr>\n",
       "    <tr>\n",
       "      <th>24</th>\n",
       "      <td>15</td>\n",
       "      <td>8</td>\n",
       "      <td>6</td>\n",
       "      <td>12</td>\n",
       "      <td>6</td>\n",
       "      <td>FAIR</td>\n",
       "      <td>4</td>\n",
       "      <td>26</td>\n",
       "      <td>30</td>\n",
       "    </tr>\n",
       "    <tr>\n",
       "      <th>25</th>\n",
       "      <td>15</td>\n",
       "      <td>16</td>\n",
       "      <td>6</td>\n",
       "      <td>10</td>\n",
       "      <td>6</td>\n",
       "      <td>FAIR</td>\n",
       "      <td>4</td>\n",
       "      <td>16</td>\n",
       "      <td>20</td>\n",
       "    </tr>\n",
       "    <tr>\n",
       "      <th>26</th>\n",
       "      <td>10</td>\n",
       "      <td>16</td>\n",
       "      <td>6</td>\n",
       "      <td>10</td>\n",
       "      <td>6</td>\n",
       "      <td>FAIR</td>\n",
       "      <td>4</td>\n",
       "      <td>16</td>\n",
       "      <td>20</td>\n",
       "    </tr>\n",
       "    <tr>\n",
       "      <th>27</th>\n",
       "      <td>10</td>\n",
       "      <td>16</td>\n",
       "      <td>4</td>\n",
       "      <td>10</td>\n",
       "      <td>6</td>\n",
       "      <td>FAIR</td>\n",
       "      <td>4</td>\n",
       "      <td>29</td>\n",
       "      <td>33</td>\n",
       "    </tr>\n",
       "    <tr>\n",
       "      <th>28</th>\n",
       "      <td>8</td>\n",
       "      <td>20</td>\n",
       "      <td>4</td>\n",
       "      <td>12</td>\n",
       "      <td>4</td>\n",
       "      <td>FAIR</td>\n",
       "      <td>4</td>\n",
       "      <td>29</td>\n",
       "      <td>33</td>\n",
       "    </tr>\n",
       "    <tr>\n",
       "      <th>29</th>\n",
       "      <td>15</td>\n",
       "      <td>20</td>\n",
       "      <td>6</td>\n",
       "      <td>12</td>\n",
       "      <td>6</td>\n",
       "      <td>FAIR</td>\n",
       "      <td>4</td>\n",
       "      <td>15</td>\n",
       "      <td>19</td>\n",
       "    </tr>\n",
       "  </tbody>\n",
       "</table>\n",
       "</div>"
      ],
      "text/plain": [
       "    executor_instances  executor_memory  executor_cores  driver_memory  \\\n",
       "0                    2                1               1              1   \n",
       "1                    2                1               1              2   \n",
       "2                    2                1               1              4   \n",
       "3                    2                1               1              8   \n",
       "4                    2                1               2              1   \n",
       "5                    2                1               4              1   \n",
       "6                    2                1               6              1   \n",
       "7                   12                8               5              1   \n",
       "8                    6               12               4              1   \n",
       "9                    6               12               4              8   \n",
       "10                  12               12               6              8   \n",
       "11                   2                8               2              8   \n",
       "12                   4                8               2              8   \n",
       "13                   4                8               4              8   \n",
       "14                   4                8               4              8   \n",
       "15                   6                8               4              8   \n",
       "16                   4                8               6              8   \n",
       "17                   3                8               6              8   \n",
       "18                  10                8               6              8   \n",
       "19                  12               16               6              8   \n",
       "20                  15               16               6              8   \n",
       "21                  15                8               6             12   \n",
       "22                  15                8               6             16   \n",
       "23                  20                8               6             16   \n",
       "24                  15                8               6             12   \n",
       "25                  15               16               6             10   \n",
       "26                  10               16               6             10   \n",
       "27                  10               16               4             10   \n",
       "28                   8               20               4             12   \n",
       "29                  15               20               6             12   \n",
       "\n",
       "    driver_cores scheduler_mode  collectat  reducebykey  total  \n",
       "0              1           FIFO          5           49     54  \n",
       "1              1           FIFO          5           48     53  \n",
       "2              1           FIFO          5           48     53  \n",
       "3              1           FIFO          4           35     39  \n",
       "4              1           FIFO          4           33     37  \n",
       "5              1           FIFO          3           29     32  \n",
       "6              1           FIFO          3           27     30  \n",
       "7              1           FIFO          7           29     36  \n",
       "8              1           FIFO          4           29     33  \n",
       "9              4           FIFO          4           29     33  \n",
       "10             4           FIFO          3           19     23  \n",
       "11             2           FAIR          6           47     53  \n",
       "12             2           FAIR          5           38     43  \n",
       "13             2           FAIR          5           38     43  \n",
       "14             4           FAIR          5           36     41  \n",
       "15             4           FAIR          5           36     41  \n",
       "16             4           FAIR          5           36     41  \n",
       "17             6           FAIR          5           36     41  \n",
       "18             4           FAIR          5           35     40  \n",
       "19             6           FAIR          4           16     20  \n",
       "20             6           FAIR          4           15     19  \n",
       "21             6           FAIR          4           26     30  \n",
       "22             6           FAIR          4           26     30  \n",
       "23             6           FAIR          6           39     45  \n",
       "24             6           FAIR          4           26     30  \n",
       "25             6           FAIR          4           16     20  \n",
       "26             6           FAIR          4           16     20  \n",
       "27             6           FAIR          4           29     33  \n",
       "28             4           FAIR          4           29     33  \n",
       "29             6           FAIR          4           15     19  "
      ]
     },
     "execution_count": 948,
     "metadata": {},
     "output_type": "execute_result"
    }
   ],
   "source": [
    "import numpy as np\n",
    "import pandas as pd\n",
    "data = pd.read_csv(\"Final Config - Sheet1.csv\")\n",
    "data"
   ]
  },
  {
   "cell_type": "code",
   "execution_count": 949,
   "metadata": {},
   "outputs": [
    {
     "data": {
      "text/plain": [
       "array([1, 1, 1, 1, 1, 1, 1, 1, 1, 1, 1, 0, 0, 0, 0, 0, 0, 0, 0, 0, 0, 0,\n",
       "       0, 0, 0, 0, 0, 0, 0, 0])"
      ]
     },
     "execution_count": 949,
     "metadata": {},
     "output_type": "execute_result"
    }
   ],
   "source": [
    "from sklearn import preprocessing\n",
    "le = preprocessing.LabelEncoder()\n",
    "schedulermode_encoded=le.fit_transform(data['scheduler_mode'].values)\n",
    "schedulermode_encoded"
   ]
  },
  {
   "cell_type": "code",
   "execution_count": 950,
   "metadata": {},
   "outputs": [
    {
     "data": {
      "text/plain": [
       "array([[ 2,  1,  1,  1,  1,  1],\n",
       "       [ 2,  1,  1,  2,  1,  1],\n",
       "       [ 2,  1,  1,  4,  1,  1],\n",
       "       [ 2,  1,  1,  8,  1,  1],\n",
       "       [ 2,  1,  2,  1,  1,  1],\n",
       "       [ 2,  1,  4,  1,  1,  1],\n",
       "       [ 2,  1,  6,  1,  1,  1],\n",
       "       [12,  8,  5,  1,  1,  1],\n",
       "       [ 6, 12,  4,  1,  1,  1],\n",
       "       [ 6, 12,  4,  8,  4,  1],\n",
       "       [12, 12,  6,  8,  4,  1],\n",
       "       [ 2,  8,  2,  8,  2,  0],\n",
       "       [ 4,  8,  2,  8,  2,  0],\n",
       "       [ 4,  8,  4,  8,  2,  0],\n",
       "       [ 4,  8,  4,  8,  4,  0],\n",
       "       [ 6,  8,  4,  8,  4,  0],\n",
       "       [ 4,  8,  6,  8,  4,  0],\n",
       "       [ 3,  8,  6,  8,  6,  0],\n",
       "       [10,  8,  6,  8,  4,  0],\n",
       "       [12, 16,  6,  8,  6,  0],\n",
       "       [15, 16,  6,  8,  6,  0],\n",
       "       [15,  8,  6, 12,  6,  0],\n",
       "       [15,  8,  6, 16,  6,  0],\n",
       "       [20,  8,  6, 16,  6,  0],\n",
       "       [15,  8,  6, 12,  6,  0],\n",
       "       [15, 16,  6, 10,  6,  0],\n",
       "       [10, 16,  6, 10,  6,  0],\n",
       "       [10, 16,  4, 10,  6,  0],\n",
       "       [ 8, 20,  4, 12,  4,  0],\n",
       "       [15, 20,  6, 12,  6,  0]])"
      ]
     },
     "execution_count": 950,
     "metadata": {},
     "output_type": "execute_result"
    }
   ],
   "source": [
    "x = np.array(list(zip(data['executor_instances'],data['executor_memory'],data['executor_cores'],data['driver_memory'],data['driver_cores'],schedulermode_encoded)))\n",
    "x"
   ]
  },
  {
   "cell_type": "code",
   "execution_count": 951,
   "metadata": {},
   "outputs": [
    {
     "name": "stdout",
     "output_type": "stream",
     "text": [
      "[[ 2  1  1  1  1  1]\n",
      " [ 2  1  1  2  1  1]\n",
      " [ 2  1  1  4  1  1]\n",
      " [ 2  1  1  8  1  1]\n",
      " [ 2  1  2  1  1  1]\n",
      " [ 2  1  4  1  1  1]\n",
      " [ 2  1  6  1  1  1]\n",
      " [12  8  5  1  1  1]\n",
      " [ 6 12  4  1  1  1]\n",
      " [ 6 12  4  8  4  1]\n",
      " [12 12  6  8  4  1]\n",
      " [ 2  8  2  8  2  0]\n",
      " [ 4  8  2  8  2  0]\n",
      " [ 4  8  4  8  2  0]\n",
      " [ 4  8  4  8  4  0]\n",
      " [ 6  8  4  8  4  0]\n",
      " [ 4  8  6  8  4  0]\n",
      " [ 3  8  6  8  6  0]\n",
      " [10  8  6  8  4  0]\n",
      " [12 16  6  8  6  0]\n",
      " [15 16  6  8  6  0]\n",
      " [15  8  6 12  6  0]\n",
      " [15  8  6 16  6  0]\n",
      " [20  8  6 16  6  0]\n",
      " [15  8  6 12  6  0]\n",
      " [15 16  6 10  6  0]\n",
      " [10 16  6 10  6  0]\n",
      " [10 16  4 10  6  0]\n",
      " [ 8 20  4 12  4  0]\n",
      " [15 20  6 12  6  0]]\n"
     ]
    }
   ],
   "source": [
    "x_np = np.array(x)\n",
    "print(x_np)\n",
    "# x"
   ]
  },
  {
   "cell_type": "code",
   "execution_count": 952,
   "metadata": {
    "scrolled": true
   },
   "outputs": [
    {
     "name": "stdout",
     "output_type": "stream",
     "text": [
      "    aa  bb  cc  dd  ee  ff\n",
      "0    2   1   1   1   1   1\n",
      "1    2   1   1   2   1   1\n",
      "2    2   1   1   4   1   1\n",
      "3    2   1   1   8   1   1\n",
      "4    2   1   2   1   1   1\n",
      "5    2   1   4   1   1   1\n",
      "6    2   1   6   1   1   1\n",
      "7   12   8   5   1   1   1\n",
      "8    6  12   4   1   1   1\n",
      "9    6  12   4   8   4   1\n",
      "10  12  12   6   8   4   1\n",
      "11   2   8   2   8   2   0\n",
      "12   4   8   2   8   2   0\n",
      "13   4   8   4   8   2   0\n",
      "14   4   8   4   8   4   0\n",
      "15   6   8   4   8   4   0\n",
      "16   4   8   6   8   4   0\n",
      "17   3   8   6   8   6   0\n",
      "18  10   8   6   8   4   0\n",
      "19  12  16   6   8   6   0\n",
      "20  15  16   6   8   6   0\n",
      "21  15   8   6  12   6   0\n",
      "22  15   8   6  16   6   0\n",
      "23  20   8   6  16   6   0\n",
      "24  15   8   6  12   6   0\n",
      "25  15  16   6  10   6   0\n",
      "26  10  16   6  10   6   0\n",
      "27  10  16   4  10   6   0\n",
      "28   8  20   4  12   4   0\n",
      "29  15  20   6  12   6   0\n"
     ]
    }
   ],
   "source": [
    "x_pd = pd.DataFrame(x_np,columns=['aa','bb','cc','dd','ee','ff'] )\n",
    "print(x_pd)"
   ]
  },
  {
   "cell_type": "code",
   "execution_count": 953,
   "metadata": {},
   "outputs": [],
   "source": [
    "y = data.iloc[:,-2].values\n",
    "y = np.array(y)"
   ]
  },
  {
   "cell_type": "code",
   "execution_count": 954,
   "metadata": {},
   "outputs": [
    {
     "data": {
      "text/html": [
       "<div>\n",
       "<style scoped>\n",
       "    .dataframe tbody tr th:only-of-type {\n",
       "        vertical-align: middle;\n",
       "    }\n",
       "\n",
       "    .dataframe tbody tr th {\n",
       "        vertical-align: top;\n",
       "    }\n",
       "\n",
       "    .dataframe thead th {\n",
       "        text-align: right;\n",
       "    }\n",
       "</style>\n",
       "<table border=\"1\" class=\"dataframe\">\n",
       "  <thead>\n",
       "    <tr style=\"text-align: right;\">\n",
       "      <th></th>\n",
       "      <th>tt</th>\n",
       "    </tr>\n",
       "  </thead>\n",
       "  <tbody>\n",
       "    <tr>\n",
       "      <th>0</th>\n",
       "      <td>49</td>\n",
       "    </tr>\n",
       "    <tr>\n",
       "      <th>1</th>\n",
       "      <td>48</td>\n",
       "    </tr>\n",
       "    <tr>\n",
       "      <th>2</th>\n",
       "      <td>48</td>\n",
       "    </tr>\n",
       "    <tr>\n",
       "      <th>3</th>\n",
       "      <td>35</td>\n",
       "    </tr>\n",
       "    <tr>\n",
       "      <th>4</th>\n",
       "      <td>33</td>\n",
       "    </tr>\n",
       "    <tr>\n",
       "      <th>5</th>\n",
       "      <td>29</td>\n",
       "    </tr>\n",
       "    <tr>\n",
       "      <th>6</th>\n",
       "      <td>27</td>\n",
       "    </tr>\n",
       "    <tr>\n",
       "      <th>7</th>\n",
       "      <td>29</td>\n",
       "    </tr>\n",
       "    <tr>\n",
       "      <th>8</th>\n",
       "      <td>29</td>\n",
       "    </tr>\n",
       "    <tr>\n",
       "      <th>9</th>\n",
       "      <td>29</td>\n",
       "    </tr>\n",
       "    <tr>\n",
       "      <th>10</th>\n",
       "      <td>19</td>\n",
       "    </tr>\n",
       "    <tr>\n",
       "      <th>11</th>\n",
       "      <td>47</td>\n",
       "    </tr>\n",
       "    <tr>\n",
       "      <th>12</th>\n",
       "      <td>38</td>\n",
       "    </tr>\n",
       "    <tr>\n",
       "      <th>13</th>\n",
       "      <td>38</td>\n",
       "    </tr>\n",
       "    <tr>\n",
       "      <th>14</th>\n",
       "      <td>36</td>\n",
       "    </tr>\n",
       "    <tr>\n",
       "      <th>15</th>\n",
       "      <td>36</td>\n",
       "    </tr>\n",
       "    <tr>\n",
       "      <th>16</th>\n",
       "      <td>36</td>\n",
       "    </tr>\n",
       "    <tr>\n",
       "      <th>17</th>\n",
       "      <td>36</td>\n",
       "    </tr>\n",
       "    <tr>\n",
       "      <th>18</th>\n",
       "      <td>35</td>\n",
       "    </tr>\n",
       "    <tr>\n",
       "      <th>19</th>\n",
       "      <td>16</td>\n",
       "    </tr>\n",
       "    <tr>\n",
       "      <th>20</th>\n",
       "      <td>15</td>\n",
       "    </tr>\n",
       "    <tr>\n",
       "      <th>21</th>\n",
       "      <td>26</td>\n",
       "    </tr>\n",
       "    <tr>\n",
       "      <th>22</th>\n",
       "      <td>26</td>\n",
       "    </tr>\n",
       "    <tr>\n",
       "      <th>23</th>\n",
       "      <td>39</td>\n",
       "    </tr>\n",
       "    <tr>\n",
       "      <th>24</th>\n",
       "      <td>26</td>\n",
       "    </tr>\n",
       "    <tr>\n",
       "      <th>25</th>\n",
       "      <td>16</td>\n",
       "    </tr>\n",
       "    <tr>\n",
       "      <th>26</th>\n",
       "      <td>16</td>\n",
       "    </tr>\n",
       "    <tr>\n",
       "      <th>27</th>\n",
       "      <td>29</td>\n",
       "    </tr>\n",
       "    <tr>\n",
       "      <th>28</th>\n",
       "      <td>29</td>\n",
       "    </tr>\n",
       "    <tr>\n",
       "      <th>29</th>\n",
       "      <td>15</td>\n",
       "    </tr>\n",
       "  </tbody>\n",
       "</table>\n",
       "</div>"
      ],
      "text/plain": [
       "    tt\n",
       "0   49\n",
       "1   48\n",
       "2   48\n",
       "3   35\n",
       "4   33\n",
       "5   29\n",
       "6   27\n",
       "7   29\n",
       "8   29\n",
       "9   29\n",
       "10  19\n",
       "11  47\n",
       "12  38\n",
       "13  38\n",
       "14  36\n",
       "15  36\n",
       "16  36\n",
       "17  36\n",
       "18  35\n",
       "19  16\n",
       "20  15\n",
       "21  26\n",
       "22  26\n",
       "23  39\n",
       "24  26\n",
       "25  16\n",
       "26  16\n",
       "27  29\n",
       "28  29\n",
       "29  15"
      ]
     },
     "execution_count": 954,
     "metadata": {},
     "output_type": "execute_result"
    }
   ],
   "source": [
    "y_pd = pd.DataFrame(y, columns=['tt'])\n",
    "y_pd"
   ]
  },
  {
   "cell_type": "code",
   "execution_count": 955,
   "metadata": {},
   "outputs": [
    {
     "data": {
      "text/plain": [
       "array([[ 1.83014049],\n",
       "       [ 1.72846601],\n",
       "       [ 1.72846601],\n",
       "       [ 0.40669789],\n",
       "       [ 0.20334894],\n",
       "       [-0.20334894],\n",
       "       [-0.40669789],\n",
       "       [-0.20334894],\n",
       "       [-0.20334894],\n",
       "       [-0.20334894],\n",
       "       [-1.22009366],\n",
       "       [ 1.62679154],\n",
       "       [ 0.7117213 ],\n",
       "       [ 0.7117213 ],\n",
       "       [ 0.50837236],\n",
       "       [ 0.50837236],\n",
       "       [ 0.50837236],\n",
       "       [ 0.50837236],\n",
       "       [ 0.40669789],\n",
       "       [-1.52511707],\n",
       "       [-1.62679154],\n",
       "       [-0.50837236],\n",
       "       [-0.50837236],\n",
       "       [ 0.81339577],\n",
       "       [-0.50837236],\n",
       "       [-1.52511707],\n",
       "       [-1.52511707],\n",
       "       [-0.20334894],\n",
       "       [-0.20334894],\n",
       "       [-1.62679154]])"
      ]
     },
     "execution_count": 955,
     "metadata": {},
     "output_type": "execute_result"
    }
   ],
   "source": [
    "# from sklearn.preprocessing import scale\n",
    "# x = scale(x)\n",
    "# y = scale(y)\n",
    "sc_x = StandardScaler().fit(x_pd)\n",
    "x = sc_x.transform(x_pd)\n",
    "\n",
    "sc_y = StandardScaler().fit(y_pd)\n",
    "y = sc_y.transform(y_pd)\n",
    "y\n",
    "# sc_y = StandardScaler()\n",
    "# X = sc_x.fit_transform(data['reducebykey'])\n",
    "# x = sc_x.fit_transform(x)\n",
    "# Y = sc_y.fit_transform(y)\n",
    "# x = sc_x.transform(x)"
   ]
  },
  {
   "cell_type": "code",
   "execution_count": 956,
   "metadata": {},
   "outputs": [],
   "source": [
    "from sklearn.preprocessing import StandardScaler"
   ]
  },
  {
   "cell_type": "code",
   "execution_count": 957,
   "metadata": {},
   "outputs": [],
   "source": [
    "from sklearn.model_selection import train_test_split\n",
    "X_Train, X_Test, Y_Train, Y_Test = train_test_split(x, y, test_size = 0.2)"
   ]
  },
  {
   "cell_type": "code",
   "execution_count": 958,
   "metadata": {},
   "outputs": [],
   "source": [
    "# scalerX = StandardScaler().fit(X_Train)\n",
    "# scalery = StandardScaler().fit(Y_Train)\n",
    "# X_Train = scalerX.transform(X_Train)\n",
    "# Y_Train = scalery.transform(Y_Train)\n",
    "# X_Test = scalerX.transform(X_Test)\n",
    "# Y_Test = scalery.transform(Y_Test)"
   ]
  },
  {
   "cell_type": "code",
   "execution_count": 959,
   "metadata": {},
   "outputs": [
    {
     "data": {
      "text/plain": [
       "LinearRegression()"
      ]
     },
     "execution_count": 959,
     "metadata": {},
     "output_type": "execute_result"
    }
   ],
   "source": [
    "from sklearn.linear_model import LinearRegression\n",
    "regressor = LinearRegression()\n",
    "regressor.fit(X_Train, Y_Train)"
   ]
  },
  {
   "cell_type": "code",
   "execution_count": 960,
   "metadata": {},
   "outputs": [],
   "source": [
    "Y_Pred = regressor.predict(X_Test)"
   ]
  },
  {
   "cell_type": "code",
   "execution_count": 961,
   "metadata": {},
   "outputs": [
    {
     "data": {
      "text/plain": [
       "array([[-0.92112038],\n",
       "       [-1.04461579],\n",
       "       [-0.26419021],\n",
       "       [ 1.23523461],\n",
       "       [ 0.90337201],\n",
       "       [-0.37597773]])"
      ]
     },
     "execution_count": 961,
     "metadata": {},
     "output_type": "execute_result"
    }
   ],
   "source": [
    "Y_Pred"
   ]
  },
  {
   "cell_type": "code",
   "execution_count": 962,
   "metadata": {},
   "outputs": [
    {
     "data": {
      "text/plain": [
       "array([[-1.62679154],\n",
       "       [-0.20334894],\n",
       "       [ 0.40669789],\n",
       "       [ 0.20334894],\n",
       "       [ 1.62679154],\n",
       "       [ 0.50837236]])"
      ]
     },
     "execution_count": 962,
     "metadata": {},
     "output_type": "execute_result"
    }
   ],
   "source": [
    "Y_Test"
   ]
  },
  {
   "cell_type": "code",
   "execution_count": 963,
   "metadata": {},
   "outputs": [
    {
     "name": "stdout",
     "output_type": "stream",
     "text": [
      "mse: 0.670998577306185\n"
     ]
    }
   ],
   "source": [
    "from sklearn.metrics import accuracy_score, mean_squared_error\n",
    "print(\"mse:\",mean_squared_error(Y_Test, Y_Pred))"
   ]
  },
  {
   "cell_type": "code",
   "execution_count": null,
   "metadata": {},
   "outputs": [],
   "source": []
  },
  {
   "cell_type": "code",
   "execution_count": 964,
   "metadata": {},
   "outputs": [
    {
     "name": "stderr",
     "output_type": "stream",
     "text": [
      "C:\\Users\\asus\\Anaconda3\\lib\\site-packages\\ipykernel_launcher.py:9: DataConversionWarning: A column-vector y was passed when a 1d array was expected. Please change the shape of y to (n_samples,), for example using ravel().\n",
      "  if __name__ == '__main__':\n"
     ]
    },
    {
     "data": {
      "text/plain": [
       "RandomForestRegressor()"
      ]
     },
     "execution_count": 964,
     "metadata": {},
     "output_type": "execute_result"
    }
   ],
   "source": [
    "from sklearn.ensemble import RandomForestRegressor\n",
    "rf = RandomForestRegressor(bootstrap=True, ccp_alpha=0.0, criterion='squared_error',\n",
    "                      max_depth=None, max_features='auto', max_leaf_nodes=None,\n",
    "                      max_samples=None, min_impurity_decrease=0.0,\n",
    "                      min_samples_leaf=1,\n",
    "                      min_samples_split=2, min_weight_fraction_leaf=0.0,\n",
    "                      n_estimators=100, n_jobs=None, oob_score=False,\n",
    "                      random_state=None, verbose=0, warm_start=False)\n",
    "rf.fit(X_Train,Y_Train)"
   ]
  },
  {
   "cell_type": "code",
   "execution_count": 965,
   "metadata": {},
   "outputs": [],
   "source": [
    "Y_Pred = rf.predict(X_Test)"
   ]
  },
  {
   "cell_type": "code",
   "execution_count": 966,
   "metadata": {},
   "outputs": [
    {
     "data": {
      "text/plain": [
       "array([-1.45496169, -0.43109976, -0.18403079,  1.25771321,  0.71782177,\n",
       "        0.31214063])"
      ]
     },
     "execution_count": 966,
     "metadata": {},
     "output_type": "execute_result"
    }
   ],
   "source": [
    "Y_Pred"
   ]
  },
  {
   "cell_type": "code",
   "execution_count": 967,
   "metadata": {},
   "outputs": [
    {
     "data": {
      "text/plain": [
       "array([[-1.62679154],\n",
       "       [-0.20334894],\n",
       "       [ 0.40669789],\n",
       "       [ 0.20334894],\n",
       "       [ 1.62679154],\n",
       "       [ 0.50837236]])"
      ]
     },
     "execution_count": 967,
     "metadata": {},
     "output_type": "execute_result"
    }
   ],
   "source": [
    "Y_Test"
   ]
  },
  {
   "cell_type": "code",
   "execution_count": 968,
   "metadata": {},
   "outputs": [
    {
     "name": "stdout",
     "output_type": "stream",
     "text": [
      "mse: 0.4011288766368013\n"
     ]
    }
   ],
   "source": [
    "from sklearn.metrics import accuracy_score, mean_squared_error\n",
    "mse = mean_squared_error(Y_Test, Y_Pred)\n",
    "print(\"mse:\", mse)"
   ]
  },
  {
   "cell_type": "code",
   "execution_count": 969,
   "metadata": {},
   "outputs": [
    {
     "data": {
      "text/plain": [
       "0.6333473585930561"
      ]
     },
     "execution_count": 969,
     "metadata": {},
     "output_type": "execute_result"
    }
   ],
   "source": [
    "import math\n",
    "rmse = math.sqrt(mse)\n",
    "rmse"
   ]
  },
  {
   "cell_type": "code",
   "execution_count": null,
   "metadata": {},
   "outputs": [],
   "source": []
  },
  {
   "cell_type": "code",
   "execution_count": 970,
   "metadata": {},
   "outputs": [
    {
     "data": {
      "text/plain": [
       "array([[16.69],\n",
       "       [26.76],\n",
       "       [29.19],\n",
       "       [43.37],\n",
       "       [38.06],\n",
       "       [34.07]])"
      ]
     },
     "execution_count": 970,
     "metadata": {},
     "output_type": "execute_result"
    }
   ],
   "source": [
    "Y_Pred = sc_y.inverse_transform(Y_Pred.reshape(-1, 1))\n",
    "Y_Pred"
   ]
  },
  {
   "cell_type": "code",
   "execution_count": 971,
   "metadata": {},
   "outputs": [
    {
     "data": {
      "text/plain": [
       "array([[15.],\n",
       "       [29.],\n",
       "       [35.],\n",
       "       [33.],\n",
       "       [47.],\n",
       "       [36.]])"
      ]
     },
     "execution_count": 971,
     "metadata": {},
     "output_type": "execute_result"
    }
   ],
   "source": [
    "Y_Test = sc_y.inverse_transform(Y_Test.reshape(-1, 1))\n",
    "Y_Test"
   ]
  },
  {
   "cell_type": "code",
   "execution_count": 972,
   "metadata": {},
   "outputs": [
    {
     "data": {
      "text/plain": [
       "array([[17.41]])"
      ]
     },
     "execution_count": 972,
     "metadata": {},
     "output_type": "execute_result"
    }
   ],
   "source": [
    "pred1=rf.predict([[20,8,6,16,6,0]])\n",
    "pred1 = sc_y.inverse_transform(pred1.reshape(-1, 1))\n",
    "pred1"
   ]
  },
  {
   "cell_type": "code",
   "execution_count": 973,
   "metadata": {},
   "outputs": [
    {
     "data": {
      "text/plain": [
       "array([[-9.10347305]])"
      ]
     },
     "execution_count": 973,
     "metadata": {},
     "output_type": "execute_result"
    }
   ],
   "source": [
    "pred1=regressor.predict([[15,8,6,16,6,0]])\n",
    "pred1"
   ]
  },
  {
   "cell_type": "code",
   "execution_count": 974,
   "metadata": {},
   "outputs": [
    {
     "data": {
      "text/plain": [
       "Text(0.5, 0, 'Feature Importance')"
      ]
     },
     "execution_count": 974,
     "metadata": {},
     "output_type": "execute_result"
    },
    {
     "data": {
      "image/png": "[encoded data removed]",
      "text/plain": [
       "<Figure size 432x288 with 1 Axes>"
      ]
     },
     "metadata": {
      "needs_background": "light"
     },
     "output_type": "display_data"
    }
   ],
   "source": [
    "df = pd.DataFrame(x, columns = ['executor_instances','executor_memory','executor_cores','driver_memory','driver_cores','scheduler_mode'])\n",
    "\n",
    "import matplotlib.pyplot as plt\n",
    "sort = rf.feature_importances_.argsort()\n",
    "plt.barh(df.columns[sort], rf.feature_importances_[sort])\n",
    "plt.xlabel(\"Feature Importance\")"
   ]
  },
  {
   "cell_type": "code",
   "execution_count": 975,
   "metadata": {},
   "outputs": [
    {
     "data": {
      "text/html": [
       "<div>\n",
       "<style scoped>\n",
       "    .dataframe tbody tr th:only-of-type {\n",
       "        vertical-align: middle;\n",
       "    }\n",
       "\n",
       "    .dataframe tbody tr th {\n",
       "        vertical-align: top;\n",
       "    }\n",
       "\n",
       "    .dataframe thead th {\n",
       "        text-align: right;\n",
       "    }\n",
       "</style>\n",
       "<table border=\"1\" class=\"dataframe\">\n",
       "  <thead>\n",
       "    <tr style=\"text-align: right;\">\n",
       "      <th></th>\n",
       "      <th>feature</th>\n",
       "      <th>importance</th>\n",
       "    </tr>\n",
       "  </thead>\n",
       "  <tbody>\n",
       "    <tr>\n",
       "      <th>2</th>\n",
       "      <td>executor_cores</td>\n",
       "      <td>0.356937</td>\n",
       "    </tr>\n",
       "    <tr>\n",
       "      <th>1</th>\n",
       "      <td>executor_memory</td>\n",
       "      <td>0.292819</td>\n",
       "    </tr>\n",
       "    <tr>\n",
       "      <th>0</th>\n",
       "      <td>executor_instances</td>\n",
       "      <td>0.220204</td>\n",
       "    </tr>\n",
       "    <tr>\n",
       "      <th>3</th>\n",
       "      <td>driver_memory</td>\n",
       "      <td>0.093401</td>\n",
       "    </tr>\n",
       "    <tr>\n",
       "      <th>5</th>\n",
       "      <td>scheduler_mode</td>\n",
       "      <td>0.026346</td>\n",
       "    </tr>\n",
       "    <tr>\n",
       "      <th>4</th>\n",
       "      <td>driver_cores</td>\n",
       "      <td>0.010292</td>\n",
       "    </tr>\n",
       "  </tbody>\n",
       "</table>\n",
       "</div>"
      ],
      "text/plain": [
       "              feature  importance\n",
       "2      executor_cores    0.356937\n",
       "1     executor_memory    0.292819\n",
       "0  executor_instances    0.220204\n",
       "3       driver_memory    0.093401\n",
       "5      scheduler_mode    0.026346\n",
       "4        driver_cores    0.010292"
      ]
     },
     "execution_count": 975,
     "metadata": {},
     "output_type": "execute_result"
    }
   ],
   "source": [
    "df = pd.DataFrame(x, columns = ['executor_instances','executor_memory','executor_cores','driver_memory','driver_cores','scheduler_mode'])\n",
    "\n",
    "\n",
    "feature_importances_df = pd.DataFrame(\n",
    "    {\"feature\":list(df.columns),\"importance\":rf.feature_importances_}\n",
    ").sort_values(\"importance\",ascending=False)\n",
    "\n",
    "feature_importances_df"
   ]
  },
  {
   "cell_type": "code",
   "execution_count": null,
   "metadata": {},
   "outputs": [],
   "source": []
  },
  {
   "cell_type": "code",
   "execution_count": null,
   "metadata": {},
   "outputs": [],
   "source": []
  }
 ],
 "metadata": {
  "kernelspec": {
   "display_name": "Python 3",
   "language": "python",
   "name": "python3"
  },
  "language_info": {
   "codemirror_mode": {
    "name": "ipython",
    "version": 3
   },
   "file_extension": ".py",
   "mimetype": "text/x-python",
   "name": "python",
   "nbconvert_exporter": "python",
   "pygments_lexer": "ipython3",
   "version": "3.7.3"
  }
 },
 "nbformat": 4,
 "nbformat_minor": 2
}
